{
 "cells": [
  {
   "cell_type": "code",
   "execution_count": 1,
   "metadata": {},
   "outputs": [
    {
     "name": "stderr",
     "output_type": "stream",
     "text": [
      "d:\\ProgramData\\Anaconda3\\envs\\or\\lib\\site-packages\\tqdm\\auto.py:22: TqdmWarning: IProgress not found. Please update jupyter and ipywidgets. See https://ipywidgets.readthedocs.io/en/stable/user_install.html\n",
      "  from .autonotebook import tqdm as notebook_tqdm\n"
     ]
    }
   ],
   "source": [
    "import argparse\n",
    "\n",
    "import matplotlib.pyplot as plt\n",
    "import numpy as np\n",
    "import seaborn as sns\n",
    "import torch\n",
    "from tqdm import tqdm, trange\n",
    "\n",
    "import descent_directions\n",
    "import visualization       "
   ]
  },
  {
   "cell_type": "code",
   "execution_count": 2,
   "metadata": {},
   "outputs": [],
   "source": [
    "def get_args():\n",
    "    parser = argparse.ArgumentParser()\n",
    "\n",
    "    parser.add_argument(\"--epsilon\", default=1e-4, type=float)\n",
    "    parser.add_argument(\"--max_iter\", default=256, type=int)\n",
    "\n",
    "    return parser.parse_args(args=[])"
   ]
  },
  {
   "cell_type": "code",
   "execution_count": 3,
   "metadata": {},
   "outputs": [],
   "source": [
    "def descent(args, init_x, init_y, f, grad_f, hessian_f, descent_dir_fn):\n",
    "    x_traj = np.zeros(args.max_iter)\n",
    "    y_traj = np.zeros(args.max_iter)\n",
    "    val_traj = np.zeros(args.max_iter)\n",
    "    \n",
    "    x_traj[0] = init_x\n",
    "    y_traj[0] = init_y\n",
    "    val_traj[0] = f(x_traj[0], y_traj[0])\n",
    "\n",
    "    for i in trange(args.max_iter):\n",
    "        \n",
    "        d_x, d_y = descent_dir_fn(x_traj[i], y_traj[i], f, grad_f, hessian_f)\n",
    "        \n",
    "        x_traj[i+1] = x_traj[i] + d_x\n",
    "        y_traj[i+1] = y_traj[i] + d_y\n",
    "        val_traj[i+1] = f(x_traj[i+1], y_traj[i+1])\n",
    "        if val_traj[i] - val_traj[i-1] < args.epsilon:\n",
    "            break\n",
    "        \n",
    "    return x_traj, y_traj, val_traj, i"
   ]
  },
  {
   "cell_type": "code",
   "execution_count": null,
   "metadata": {},
   "outputs": [],
   "source": [
    "sns.set(rc={'figure.figsize': (12.0, 8.0)})\n",
    "args = get_args()\n",
    "\n",
    "f = lambda x, y: (1 - x)**2 + 2 * (x**2 - y)**2\n",
    "grad_f = lambda x, y: np.array([2 * (4 * x**3 - 4 * x * y + x - 1), 4 * y - 4 * x**2])\n",
    "hessian_f = lambda x: np.asarray(\n",
    "    [24 * x**2 - 8 * y + 2, -8 * x],\n",
    "    [-8 * x, 4]\n",
    ")\n",
    "\n",
    "init_x, init_y = np.random.randn(2)\n",
    "visualization.contour_plot(f, [-2.5, 2.5], [-2.5, 2.5], 1000, 1000, 'RdBu')\n",
    "\n",
    "methods_dict = {\n",
    "    \"1-norm\": descent_directions.descent_1n,\n",
    "    \"2-norm\": descent_directions.descent_2n,\n",
    "    \"inf-norm\": descent_directions.descent_in,\n",
    "    \"fr\": descent_directions.descent_fr,\n",
    "    \"pr\": descent_directions.descent_pr\n",
    "}\n",
    "\n",
    "labels = []\n",
    "x_trajs = []\n",
    "y_trajs = []\n",
    "val_trajs = []\n",
    "\n",
    "for method, descent_fn in methods_dict.items():\n",
    "    x_traj, y_traj, val_traj, last_it = descent(\n",
    "        args,\n",
    "        init_x, init_y,\n",
    "        f, grad_f, hessian_f,\n",
    "        descent_fn\n",
    "    )\n",
    "    \n",
    "    labels.append(method)\n",
    "    x_trajs.append(x_traj[:last_it])\n",
    "    y_trajs.append(y_traj[:last_it])\n",
    "    val_trajs.append(val_traj[:last_it])\n",
    "    \n",
    "    print(f\"{method}:\\t f(x, y) = {val_traj[-1]}\")\n",
    "    \n",
    "visualization.contour_plot_with_tours(f, [-2.5, 2.5], [-2.5, 2.5], 1000, 1000, 'RdBu')\n",
    "visualization.val_descent(val_trajs, labels)"
   ]
  }
 ],
 "metadata": {
  "interpreter": {
   "hash": "038c52bf791cda21cbd43f9e41912e7b4637d3968137e02ac3dc6c6e867c19f5"
  },
  "kernelspec": {
   "display_name": "Python 3.9.12 ('or')",
   "language": "python",
   "name": "python3"
  },
  "language_info": {
   "codemirror_mode": {
    "name": "ipython",
    "version": 3
   },
   "file_extension": ".py",
   "mimetype": "text/x-python",
   "name": "python",
   "nbconvert_exporter": "python",
   "pygments_lexer": "ipython3",
   "version": "3.9.12"
  },
  "orig_nbformat": 4
 },
 "nbformat": 4,
 "nbformat_minor": 2
}
